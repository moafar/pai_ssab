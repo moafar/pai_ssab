{
  "nbformat": 4,
  "nbformat_minor": 0,
  "metadata": {
    "colab": {
      "provenance": [],
      "authorship_tag": "ABX9TyMJA1eeD2EuJW35YK8pIJZb",
      "include_colab_link": true
    },
    "kernelspec": {
      "name": "python3",
      "display_name": "Python 3"
    },
    "language_info": {
      "name": "python"
    }
  },
  "cells": [
    {
      "cell_type": "markdown",
      "metadata": {
        "id": "view-in-github",
        "colab_type": "text"
      },
      "source": [
        "<a href=\"https://colab.research.google.com/github/moafar/pai_ssab/blob/master/iarc-infantil.ipynb\" target=\"_parent\"><img src=\"https://colab.research.google.com/assets/colab-badge.svg\" alt=\"Open In Colab\"/></a>"
      ]
    },
    {
      "cell_type": "code",
      "execution_count": 2,
      "metadata": {
        "id": "2I_B_ENnr2ub"
      },
      "outputs": [],
      "source": [
        "import pandas as pd"
      ]
    },
    {
      "cell_type": "code",
      "source": [
        "df = pd.read_excel(\"infantil.xlsx\")"
      ],
      "metadata": {
        "id": "4M0MdlKptJYQ"
      },
      "execution_count": 126,
      "outputs": []
    },
    {
      "cell_type": "code",
      "source": [
        "df.columns"
      ],
      "metadata": {
        "colab": {
          "base_uri": "https://localhost:8080/"
        },
        "id": "1KCaDeXXtO_2",
        "outputId": "77738c81-d80c-4592-ab99-bfbbd802f57c"
      },
      "execution_count": 127,
      "outputs": [
        {
          "output_type": "execute_result",
          "data": {
            "text/plain": [
              "Index(['Estado del Registro', 'Estado del Registro (desc)', 'Verificación',\n",
              "       'Verificación (desc)', 'Ultima Modificación', 'Régimen Afiliación',\n",
              "       'Régimen Afiliación (desc)', 'Edad', 'Dept/Municipio',\n",
              "       'Dept/Municipio (cat)', 'Dept/Municipio (desc)', 'ComunaBarrioVereda',\n",
              "       'ComunaBarrioVereda (cat)', 'ComunaBarrioVereda (desc)', 'Dirección',\n",
              "       'Teléfono', 'Clase socioecon.', 'Clase socioecon. (desc)',\n",
              "       'Fecha Diagnós.', 'Método Diagnós.', 'Método Diagnós. (desc)',\n",
              "       'Localización', 'Localización (cat)', 'Localización (desc)',\n",
              "       'Lateralidad', 'Lateralidad (desc)', 'Morfología', 'Morfología (desc)',\n",
              "       'Sitio Metástasis', 'Comportami.', 'Comportami. (desc)', 'Prim.Múlt.',\n",
              "       'PM Sec', 'PM Tot', 'Grado Dif.', 'Grado Dif. (desc)',\n",
              "       'Estado Neoplasia', 'Estado Neoplasia (desc)', 'TNMC', 'TNMP',\n",
              "       'Estadio', 'Observaciones Caso', 'ObsoleteFlagTumourTable', 'TumourID',\n",
              "       'PatientIDTumourTable', 'PatientRecordIDTumourTable', 'TumourUpdatedBy',\n",
              "       'TumourUnduplicationStatus', 'Fecha Captura Caso', 'CIE-10', 'CICN ',\n",
              "       'Nº Registro', 'Buscar Persona', 'Buscar Persona (desc)',\n",
              "       '1er Apellido', '2º Apellido', 'Apell. casada', '1er nombre',\n",
              "       '2º nombre', 'Sexo', 'Sexo (desc)', 'Tipo Identificación',\n",
              "       'Tipo Identificación (desc)', 'Número Id.', 'Fecha Nacimiento',\n",
              "       'Lugar Nacimiento', 'Lugar Nacimiento (cat)', 'Lugar Nacimiento (desc)',\n",
              "       'Vivo/Muerto', 'Vivo/Muerto (desc)', 'Estado Enfermedad',\n",
              "       'Estado Enfermedad (desc)', 'Ultimo contacto', 'Fecha Muerte',\n",
              "       'Documento de Mortalidad', 'CIE10 Muerte', 'CIE10 Muerte (desc)',\n",
              "       'ObsoleteFlagPatientTable', 'PatientRecordID', 'PatientUpdatedBy',\n",
              "       'PatientUpdateDate', 'PatientRecordStatus', 'PatientCheckStatus'],\n",
              "      dtype='object')"
            ]
          },
          "metadata": {},
          "execution_count": 127
        }
      ]
    },
    {
      "cell_type": "code",
      "source": [
        "df['Fecha Diagnós.'] = df['Fecha Diagnós.'].astype(str)\n",
        "df['Fecha Nacimiento'] = df['Fecha Nacimiento'].astype(str)"
      ],
      "metadata": {
        "id": "kKEmaFAxuTtU"
      },
      "execution_count": 128,
      "outputs": []
    },
    {
      "cell_type": "code",
      "source": [
        "print(\"Fecha DX:\")\n",
        "print(df['Fecha Diagnós.'][705])\n",
        "print(df['Fecha Diagnós.'][710])\n",
        "print(\"------------------\")\n",
        "print(\"Fecha nacimiento:\")\n",
        "print(df['Fecha Nacimiento'][705])\n",
        "print(df['Fecha Nacimiento'][710])"
      ],
      "metadata": {
        "colab": {
          "base_uri": "https://localhost:8080/"
        },
        "id": "VlgC4RvBvJZX",
        "outputId": "b98d5022-b001-4067-8932-f2773c065c74"
      },
      "execution_count": 129,
      "outputs": [
        {
          "output_type": "stream",
          "name": "stdout",
          "text": [
            "Fecha DX:\n",
            "2017-12-05 00:00:00\n",
            "99/99/2010\n",
            "------------------\n",
            "Fecha nacimiento:\n",
            "2008-10-15 00:00:00\n",
            "2008-09-21 00:00:00\n"
          ]
        }
      ]
    },
    {
      "cell_type": "code",
      "source": [
        "'''\n",
        "df = df.drop('Fecha Dx Procesada', axis=1)\n",
        "df = df.drop('Fecha Nacimiento Procesada', axis=1)"
      ],
      "metadata": {
        "id": "YP10YgvDHTMn"
      },
      "execution_count": 122,
      "outputs": []
    },
    {
      "cell_type": "code",
      "source": [
        "df.insert(df.columns.get_loc('Fecha Diagnós.') + 1, 'Fecha Dx Procesada', df['Fecha Diagnós.'].apply(lambda x: x[:10]))\n",
        "df.insert(df.columns.get_loc('Fecha Nacimiento') + 1, 'Fecha Nacimiento Procesada', df['Fecha Nacimiento'].apply(lambda x: x[:10]))"
      ],
      "metadata": {
        "id": "92jQX_hSxpr1"
      },
      "execution_count": 130,
      "outputs": []
    },
    {
      "cell_type": "code",
      "source": [
        "print(\"Fecha DX:\")\n",
        "print(df['Fecha Dx Procesada'][705])\n",
        "print(df['Fecha Dx Procesada'][710])\n",
        "print(\"------------------\")\n",
        "print(\"Fecha nacimiento:\")\n",
        "print(df['Fecha Nacimiento Procesada'][705])\n",
        "print(df['Fecha Nacimiento Procesada'][188])"
      ],
      "metadata": {
        "colab": {
          "base_uri": "https://localhost:8080/"
        },
        "id": "XWcSXyBAHOZH",
        "outputId": "61ad98e4-173c-4d49-a46d-3d8cdcc00601"
      },
      "execution_count": 133,
      "outputs": [
        {
          "output_type": "stream",
          "name": "stdout",
          "text": [
            "Fecha DX:\n",
            "2017-12-05\n",
            "99/99/2010\n",
            "------------------\n",
            "Fecha nacimiento:\n",
            "2008-10-15\n",
            "99/99/2002\n"
          ]
        }
      ]
    },
    {
      "cell_type": "code",
      "source": [
        "def unify_date_format(date_str):\n",
        "    if '-' in date_str:\n",
        "        y, m, d = date_str.split('-')\n",
        "        return f\"{d}{m}{y}\"\n",
        "    elif '/' in date_str:\n",
        "        d, m, y = date_str.split('/')\n",
        "        return f\"{d}{m}{y}\"\n",
        "    else:\n",
        "        # En caso de que no esté en ninguno de los formatos conocidos, devuelve el valor original\n",
        "        return date_str"
      ],
      "metadata": {
        "id": "osouC12Z5Ce2"
      },
      "execution_count": 134,
      "outputs": []
    },
    {
      "cell_type": "code",
      "source": [
        "df['Fecha Dx Procesada'] = df['Fecha Dx Procesada'].apply(unify_date_format)\n",
        "df['Fecha Nacimiento Procesada'] = df['Fecha Nacimiento Procesada'].apply(unify_date_format)"
      ],
      "metadata": {
        "id": "f5wA6OUdIQ5H"
      },
      "execution_count": 135,
      "outputs": []
    },
    {
      "cell_type": "code",
      "source": [
        "print(\"Fecha DX:\")\n",
        "print(df['Fecha Dx Procesada'][705])\n",
        "print(df['Fecha Dx Procesada'][710])\n",
        "print(\"------------------\")\n",
        "print(\"Fecha nacimiento:\")\n",
        "print(df['Fecha Nacimiento Procesada'][705])\n",
        "print(df['Fecha Nacimiento Procesada'][188])"
      ],
      "metadata": {
        "colab": {
          "base_uri": "https://localhost:8080/"
        },
        "id": "VftT7oIpHqF9",
        "outputId": "4f004379-cbe6-4d11-fe4c-f503aa690ced"
      },
      "execution_count": 137,
      "outputs": [
        {
          "output_type": "stream",
          "name": "stdout",
          "text": [
            "Fecha DX:\n",
            "05122017\n",
            "99992010\n",
            "------------------\n",
            "Fecha nacimiento:\n",
            "15102008\n",
            "99992002\n"
          ]
        }
      ]
    },
    {
      "cell_type": "code",
      "source": [
        "df.to_csv(\"infantil.csv\")"
      ],
      "metadata": {
        "id": "c6-Yf_pUvWd3"
      },
      "execution_count": 138,
      "outputs": []
    }
  ]
}