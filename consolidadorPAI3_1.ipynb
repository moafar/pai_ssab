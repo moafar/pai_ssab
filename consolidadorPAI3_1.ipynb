{
  "nbformat": 4,
  "nbformat_minor": 0,
  "metadata": {
    "colab": {
      "provenance": [],
      "authorship_tag": "ABX9TyMa1Gt9vO0+HD8rcgi1aEvA",
      "include_colab_link": true
    },
    "kernelspec": {
      "name": "python3",
      "display_name": "Python 3"
    },
    "language_info": {
      "name": "python"
    }
  },
  "cells": [
    {
      "cell_type": "markdown",
      "metadata": {
        "id": "view-in-github",
        "colab_type": "text"
      },
      "source": [
        "<a href=\"https://colab.research.google.com/github/moafar/pai_ssab/blob/master/consolidadorPAI3_1.ipynb\" target=\"_parent\"><img src=\"https://colab.research.google.com/assets/colab-badge.svg\" alt=\"Open In Colab\"/></a>"
      ]
    },
    {
      "cell_type": "code",
      "source": [
        "'''\n",
        "v3.1 - 30/08/2023 -\n",
        "Este script recorre la carpeta donde se encuentra ubicado el archivo .py\n",
        "y procesa los archivos .xlsm que encuentra creando un solo dataframe unificado.\n",
        "El resultado lo guarda en el libro Excel \"consolidado.xlsx\".\n",
        "\n",
        "************************************************************************\n",
        "** Requisitos:                                                         *\n",
        "************************************************************************\n",
        "** 1. El archivo \"consolidado.xlsx\" debe existir en el mismo           *\n",
        "** directorio donde se encuentra el script                             *\n",
        "**                                                                     *\n",
        "**                                                                     *\n",
        "************************************************************************\n",
        "'''\n",
        "\n",
        "import os\n",
        "import pandas as pd\n",
        "import datetime\n",
        "import openpyxl\n",
        "\n",
        "\n",
        "nombre_hoja = \"Registro Diario\"\n",
        "\n",
        "# Obtener la ruta del directorio actual (Get Current Working Directory)\n",
        "# o sea, el directorio de este archivo .py\n",
        "directorio_actual = os.getcwd()\n",
        "\n",
        "# Obtener una lista de los archivos y directorios en el directorio actual\n",
        "lista_archivos = os.listdir(directorio_actual)\n",
        "\n",
        "# Crear el DataFrame global del municipio, con 257 columnas\n",
        "df_bga = pd.DataFrame(columns=range(257))\n",
        "\n",
        "# Recorrer la lista de archivos y directorios\n",
        "for archivo in lista_archivos:\n",
        "    ruta_archivo = os.path.join(directorio_actual, archivo)\n",
        "    if os.path.isfile(ruta_archivo) and archivo.endswith(\".xlsm\"):\n",
        "        print(\" ********************************************\")\n",
        "        print(datetime.datetime.now())\n",
        "        nombreIPS = archivo.split()[0]\n",
        "        print(\"Nombre IPS:\", nombreIPS)\n",
        "        print(\"Archivo:\", archivo)\n",
        "        df = pd.read_excel(archivo, sheet_name=nombre_hoja, skiprows=2, engine='openpyxl', header=None)\n",
        "\n",
        "        # Selecciono únicamente las filas diligenciadas, verificando si la columna 1 (fecha de atención) está diligenciada\n",
        "        df2 = df[df.iloc[:, 1].notnull()]\n",
        "\n",
        "        # Elimino la última fila (cargada con \"fin\" en cada columna)\n",
        "        df3 = df2.drop(df.index[-1])\n",
        "\n",
        "        # Agrego la columna para identificar la IPS\n",
        "        df3[len(df3.columns)] = nombreIPS\n",
        "\n",
        "        print(\"Datos cargados.  La base de \"+nombreIPS+\" tiene\", df3.shape[0], \"filas\")\n",
        "\n",
        "        # Agrego los datos al dataframe global del municipio\n",
        "        df_bga = pd.concat([df_bga, df3], ignore_index=True)\n",
        "\n",
        "        print(\"----------------------------------------------------\")\n",
        "        print(\"La base consolidada está así:\")\n",
        "        df_bga.info()\n",
        "        print(\"----------------------------------------------------\")\n",
        "\n",
        "        # Vacío los dataframes para la próxima iteración\n",
        "        df.drop(df.index, inplace=True)\n",
        "        df2.drop(df2.index, inplace=True)\n",
        "        df3.drop(df3.index, inplace=True)\n",
        "\n",
        "# En este punto ya tengo el dataframe consolidado en la variable df_bga\n",
        "\n",
        "# Presento en pantalla el resumen de la operación\n",
        "# Obtener la tabla de frecuencias de la columna 256\n",
        "tabla_frecuencias = df_bga[256].value_counts()\n",
        "\n",
        "# Verificar la tabla de frecuencias\n",
        "print(\"******************************************************************\")\n",
        "print(\"Datos cargados.  Se cargaron datos así:\")\n",
        "print(tabla_frecuencias)\n",
        "print(\"******************************************************************\")\n",
        "print(\"Por favor espere a que se escriba el archivo consolidado.\")\n",
        "print(\"(Puede tardar varios minutos)\")\n",
        "print(\"******************************************************************\")\n",
        "\n",
        "# Copio el dataframe eliminando la columna final para cargar los datos al archivo consolidado\n",
        "df_bga2 = df_bga.iloc[:, 1:-1]\n",
        "\n",
        "# ******************************************\n",
        "# *** Escribir en el archivo de destino***\n",
        "# ******************************************\n",
        "\n",
        "# Ruta del archivo Excel de destino\n",
        "archivo_excel = \"consolidado.xlsx\"\n",
        "\n",
        "# Abro el libro del archivo Excel\n",
        "libro_trabajo = openpyxl.load_workbook(archivo_excel)\n",
        "\n",
        "# Selecciono la hoja del registro\n",
        "hoja = libro_trabajo[\"Registro Diario\"]\n",
        "\n",
        "# Leo el contenido de la columna A en la hoja \"Registro Diario\" antes de escribir nuevos datos\n",
        "columna_a = [celda.value for celda in hoja[\"A\"]]\n",
        "# Elimino el primer elemento de la lista para conservar la estructura de la columna A cuando la escriba\n",
        "columna_a = columna_a[1:]\n",
        "\n",
        "# Escribir los datos del DataFrame en la hoja \"Registro Diario\" a partir de la celda B3\n",
        "for i, fila in enumerate(pd.DataFrame(df_bga2).values):\n",
        "    for j, valor in enumerate(fila):\n",
        "        hoja.cell(row=3 + i, column=j + 2, value=valor)  # Escribir los datos a partir de la celda B3\n",
        "\n",
        "# Conservar el contenido de la columna A en la hoja \"Registro Diario\"\n",
        "for i, valor in enumerate(columna_a):\n",
        "    hoja.cell(row=2 + i, column=1, value=valor)\n",
        "\n",
        "# Guardar los cambios en el archivo Excel\n",
        "libro_trabajo.save(archivo_excel)\n",
        "\n",
        "# Cerrar el archivo\n",
        "libro_trabajo.close()\n",
        "\n",
        "\n",
        "print(\"************************************************\")\n",
        "print(\"Terminado. Los datos se guardaron en el archivo:\")\n",
        "print(\"<<consolidado.xlsx>>\")\n",
        "print(\"************************************************\")\n"
      ],
      "metadata": {
        "colab": {
          "base_uri": "https://localhost:8080/"
        },
        "id": "8lzYUvBIOsqr",
        "outputId": "6a34b22b-0177-4b3e-fd17-4e3bfedaae28"
      },
      "execution_count": null,
      "outputs": [
        {
          "output_type": "stream",
          "name": "stdout",
          "text": [
            " ********************************************\n",
            "2023-07-28 20:44:42.522399\n",
            "Nombre IPS: COOMULTRASAN\n",
            "Archivo: COOMULTRASAN - ENERO.xlsm\n"
          ]
        },
        {
          "output_type": "stream",
          "name": "stderr",
          "text": [
            "/usr/local/lib/python3.10/dist-packages/openpyxl/worksheet/_reader.py:312: UserWarning: Data Validation extension is not supported and will be removed\n",
            "  warn(msg)\n"
          ]
        },
        {
          "output_type": "stream",
          "name": "stdout",
          "text": [
            "Datos cargados.  La base de COOMULTRASAN tiene 591 filas\n",
            "----------------------------------------------------\n",
            "La base consolidada está así:\n",
            "<class 'pandas.core.frame.DataFrame'>\n",
            "RangeIndex: 591 entries, 0 to 590\n",
            "Columns: 257 entries, 0 to 256\n",
            "dtypes: float64(28), object(229)\n",
            "memory usage: 1.2+ MB\n",
            "----------------------------------------------------\n",
            "******************************************************************\n",
            "Datos cargados.  Se cargaron datos así:\n",
            "COOMULTRASAN    591\n",
            "Name: 256, dtype: int64\n",
            "******************************************************************\n",
            "Por favor espere a que se escriba el archivo consolidado.\n",
            "(Puede tardar varios minutos)\n",
            "******************************************************************\n"
          ]
        },
        {
          "output_type": "stream",
          "name": "stderr",
          "text": [
            "/usr/local/lib/python3.10/dist-packages/openpyxl/worksheet/_reader.py:312: UserWarning: Data Validation extension is not supported and will be removed\n",
            "  warn(msg)\n"
          ]
        },
        {
          "output_type": "stream",
          "name": "stdout",
          "text": [
            "************************************************\n",
            "Terminado. Los datos se guardaron en el archivo:\n",
            "<<consolidado.xlsx>>\n",
            "************************************************\n"
          ]
        }
      ]
    }
  ]
}